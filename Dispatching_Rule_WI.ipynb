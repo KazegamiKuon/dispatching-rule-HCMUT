{
  "nbformat": 4,
  "nbformat_minor": 0,
  "metadata": {
    "colab": {
      "name": "Dispatching-Rule-WI.ipynb",
      "provenance": [],
      "collapsed_sections": []
    },
    "kernelspec": {
      "name": "python3",
      "display_name": "Python 3"
    }
  },
  "cells": [
    {
      "cell_type": "code",
      "metadata": {
        "id": "tV_cpxsFstjb",
        "colab_type": "code",
        "colab": {}
      },
      "source": [
        "from google.colab import files\n",
        "uploaded = files.upload()"
      ],
      "execution_count": 0,
      "outputs": []
    },
    {
      "cell_type": "code",
      "metadata": {
        "id": "7pOO24DN6A6O",
        "colab_type": "code",
        "colab": {}
      },
      "source": [
        "fileName = \"data.txt\"\n",
        "f = open(fileName,'r')\n",
        "readData = []\n",
        "for x in f:\n",
        "  tempL = x.split()\n",
        "  tempN = len(tempL)\n",
        "  newL = []\n",
        "  for i in range(tempN):\n",
        "    if(i>0):\n",
        "      newL.append(int(tempL[i]))\n",
        "    else:\n",
        "      newL.append(tempL[i])\n",
        "  readData.append(newL)\n",
        "f.close()"
      ],
      "execution_count": 0,
      "outputs": []
    },
    {
      "cell_type": "code",
      "metadata": {
        "id": "is-BYLzj7qnm",
        "colab_type": "code",
        "colab": {}
      },
      "source": [
        "import pandas as pd\n",
        "from prettytable import PrettyTable\n",
        "\n",
        "def generate_ascii_table(df):\n",
        "    x = PrettyTable()\n",
        "    x.field_names = df.columns.tolist()\n",
        "    for row in df.values:\n",
        "        x.add_row(row)\n",
        "    print(x)\n",
        "    return x\n",
        "\n",
        "def rule(elm):\n",
        "  return elm[3]\n",
        "  \n",
        "inputData = readData\n",
        "inputData.sort(key=rule,reverse =True)\n",
        "n=len(inputData)\n",
        "temp = None\n",
        "time=[]\n",
        "for  d in inputData:\n",
        "  if temp == None:\n",
        "    d.append(0)\n",
        "    d.append(d[4]+d[1])\n",
        "    if d[5] > d[2]:\n",
        "      d.append(d[5]-d[2])\n",
        "    else:\n",
        "      d.append(0)\n",
        "  else:\n",
        "    d.append(temp[4]+temp[1])\n",
        "    d.append(d[4]+d[1])\n",
        "    if d[5] > d[2]:\n",
        "      d.append(d[5]-d[2])\n",
        "    else:\n",
        "      d.append(0)    \n",
        "  temp = d\n",
        "  time.append([d[0]])\n",
        "outputData = pd.DataFrame(inputData, columns=['CV', 'P', 'D','W','S','C','L'])\n",
        "generate_ascii_table(outputData)\n",
        "timeE = 0\n",
        "timeP = 0\n",
        "timeD = 0\n",
        "maxFinal = 0\n",
        "for i in inputData: \n",
        "  timeE += i[5]\n",
        "  timeP += i[1]\n",
        "  timeD += i[6]\n",
        "  maxFinal += i[3]*i[5]\n",
        "countJob = len(inputData)\n",
        "print(\"Tổng thời gian kết thúc : \" +str(timeE))\n",
        "print(\"Tổng số công việc : \" +str(countJob))\n",
        "print(\"Tổng thời gian gia công : \" +str(timeP))\n",
        "print(\"Tổng thời gian trễ : \" +str(timeD))\n",
        "print(\"Tổng thời gian hoàn thành trung bình : \" +str(timeE/countJob))\n",
        "print(\"Độ hiệu dụng : \" +str(timeP/timeE))\n",
        "print(\"Số lượng công việc trung bình : \" +str(timeE/timeP))\n",
        "print(\"Thời gian trễ trung bình : \" +str(timeD/countJob))\n",
        "print(\"Giá trị mục tiêu : \" +str(maxFinal))\n",
        "date=[\"-\"]\n",
        "for i in range(inputData[n-1][5]):\n",
        "  date.append(i+1)\n",
        "  for j in range(n):\n",
        "    if(inputData[j][5] > i and inputData[j][4] <= i):\n",
        "      time[j].append(\"X\")\n",
        "    else:\n",
        "      time[j].append(\"-\")\n",
        "calendaData = pd.DataFrame(time, columns = date)\n",
        "generate_ascii_table(calendaData)"
      ],
      "execution_count": 0,
      "outputs": []
    }
  ]
}